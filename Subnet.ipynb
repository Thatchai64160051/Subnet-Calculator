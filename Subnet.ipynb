{
  "nbformat": 4,
  "nbformat_minor": 0,
  "metadata": {
    "colab": {
      "provenance": [],
      "authorship_tag": "ABX9TyN9GM1vK2LvB8mR7TYieaAO",
      "include_colab_link": true
    },
    "kernelspec": {
      "name": "python3",
      "display_name": "Python 3"
    },
    "language_info": {
      "name": "python"
    }
  },
  "cells": [
    {
      "cell_type": "markdown",
      "metadata": {
        "id": "view-in-github",
        "colab_type": "text"
      },
      "source": [
        "<a href=\"https://colab.research.google.com/github/Thatchai64160051/Subnet-Calculator/blob/main/Subnet.ipynb\" target=\"_parent\"><img src=\"https://colab.research.google.com/assets/colab-badge.svg\" alt=\"Open In Colab\"/></a>"
      ]
    },
    {
      "cell_type": "code",
      "execution_count": null,
      "metadata": {
        "colab": {
          "base_uri": "https://localhost:8080/"
        },
        "id": "YYVJZCdiBF0U",
        "outputId": "ec40e0d6-ff5c-44bb-e1d2-a52808698004"
      },
      "outputs": [
        {
          "output_type": "stream",
          "name": "stdout",
          "text": [
            "Enter IP address (e.g., 192.168.1.1): 10.0.0.1\n",
            "Enter subnet prefix length (e.g., 24): 8\n",
            "Network Class: A\n",
            "First Octet Range: 10-223\n",
            "Hex IP Address: 0A.00.00.01\n",
            "IP Address: 10.0.0.1\n",
            "Subnet Mask: 255.0.0.0\n",
            "Wildcard Mask: 0.255.255.255\n",
            "Subnet Bits: 0\n",
            "Mask Bits: 8\n",
            "Maximum Subnets: 1\n",
            "Hosts per Subnet: 16777214\n",
            "Host Address Range: 10.0.0.1 - 10.255.255.254\n"
          ]
        }
      ],
      "source": [
        "import ipaddress\n",
        "\n",
        "def calculate_subnet(ip, prefix_length):\n",
        "    try:\n",
        "        network = ipaddress.IPv4Network(f'{ip}/{prefix_length}', strict=False)\n",
        "        subnet_mask = str(network.netmask)\n",
        "        wildcard_mask = str(network.hostmask)\n",
        "        mask_bits = prefix_length\n",
        "        hosts_per_subnet = 2 ** (32 - prefix_length) - 2\n",
        "\n",
        "        first_octet = int(ip.split('.')[0])\n",
        "        network_class = 'Unknown'\n",
        "        if 192 <= first_octet <= 223:\n",
        "            network_class = 'C'\n",
        "            subnet_bits = prefix_length - 24\n",
        "            maximum_subnets = 2 ** subnet_bits\n",
        "        elif 128 <= first_octet <= 191:\n",
        "            network_class = 'B'\n",
        "            subnet_bits = prefix_length - 16\n",
        "            maximum_subnets = 2 ** subnet_bits\n",
        "        elif 1 <= first_octet <= 126:\n",
        "            network_class = 'A'\n",
        "            subnet_bits = prefix_length - 8\n",
        "            maximum_subnets = 2 ** subnet_bits\n",
        "\n",
        "        hex_ip = '.'.join([format(int(octet), '02X') for octet in ip.split('.')])\n",
        "        host_address_range = f'{str(network.network_address + 1)} - {str(network.broadcast_address - 1)}'\n",
        "\n",
        "        return f\"Network Class: {network_class}\\nFirst Octet Range: {first_octet}-223\\nHex IP Address: {hex_ip}\\nIP Address: {ip}\\nSubnet Mask: {subnet_mask}\\nWildcard Mask: {wildcard_mask}\\nSubnet Bits: {subnet_bits}\\nMask Bits: {mask_bits}\\nMaximum Subnets: {maximum_subnets}\\nHosts per Subnet: {hosts_per_subnet}\\nHost Address Range: {host_address_range}\"\n",
        "    except ValueError:\n",
        "        return \"Invalid IP address or prefix length.\"\n",
        "\n",
        "ip = input(\"Enter IP address (e.g., 192.168.1.1): \")\n",
        "prefix_length = int(input(\"Enter subnet prefix length (e.g., 24): \"))\n",
        "result = calculate_subnet(ip, prefix_length)\n",
        "print(result)"
      ]
    }
  ]
}